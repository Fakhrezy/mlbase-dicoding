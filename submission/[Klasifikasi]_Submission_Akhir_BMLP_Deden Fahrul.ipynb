{
  "cells": [
    {
      "cell_type": "markdown",
      "metadata": {
        "id": "0tvAKGat01Sd"
      },
      "source": [
        "# **Penting**\n",
        "- Pastikan Anda melakukan Run All sebelum mengirimkan submission untuk memastikan seluruh cell berjalan dengan baik.\n",
        "- Hapus simbol pagar (#) jika Anda menerapkan kriteria tambahan\n",
        "- Biarkan simbol pagar (#) jika Anda tidak menerapkan kriteria tambahan\n",
        "- Pastikan Anda mengerjakan sesuai section yang sudah diberikan tanpa mengubah judul atau header yang disediakan."
      ]
    },
    {
      "cell_type": "markdown",
      "metadata": {
        "id": "fKADPWcFKlj3"
      },
      "source": [
        "# **1. Import Library**\n",
        "Pada tahap ini, Anda perlu mengimpor beberapa pustaka (library) Python yang dibutuhkan untuk analisis data dan pembangunan model machine learning."
      ]
    },
    {
      "cell_type": "code",
      "execution_count": 150,
      "metadata": {
        "id": "BlmvjLY9M4Yj"
      },
      "outputs": [],
      "source": [
        "#Type your code here\n",
        "import pandas as pd\n",
        "import seaborn as sns\n",
        "import matplotlib.pyplot as plt\n",
        "from sklearn.model_selection import train_test_split\n",
        "from sklearn.neighbors import KNeighborsClassifier\n",
        "from sklearn.tree import DecisionTreeClassifier\n",
        "from sklearn.ensemble import RandomForestClassifier\n",
        "from sklearn.svm import SVC\n",
        "from sklearn.naive_bayes import GaussianNB\n",
        "from sklearn.metrics import confusion_matrix, accuracy_score, precision_score, recall_score, f1_score"
      ]
    },
    {
      "cell_type": "markdown",
      "metadata": {
        "id": "f3YIEnAFKrKL"
      },
      "source": [
        "# **2. Memuat Dataset dari Hasil Clustering**\n",
        "Memuat dataset hasil clustering dari file CSV ke dalam variabel DataFrame."
      ]
    },
    {
      "cell_type": "code",
      "execution_count": 151,
      "metadata": {
        "id": "GHCGNTyrM5fS"
      },
      "outputs": [
        {
          "name": "stdout",
          "output_type": "stream",
          "text": [
            "<class 'pandas.core.frame.DataFrame'>\n",
            "RangeIndex: 2108 entries, 0 to 2107\n",
            "Data columns (total 17 columns):\n",
            " #   Column                      Non-Null Count  Dtype  \n",
            "---  ------                      --------------  -----  \n",
            " 0   TransactionAmount           2108 non-null   float64\n",
            " 1   TransactionDate             2108 non-null   object \n",
            " 2   TransactionType             2108 non-null   int64  \n",
            " 3   Location                    2108 non-null   object \n",
            " 4   Channel                     2108 non-null   int64  \n",
            " 5   CustomerAge                 2108 non-null   float64\n",
            " 6   CustomerOccupation          2108 non-null   int64  \n",
            " 7   TransactionDuration         2108 non-null   float64\n",
            " 8   LoginAttempts               2108 non-null   float64\n",
            " 9   AccountBalance              2108 non-null   float64\n",
            " 10  PreviousTransactionDate     2108 non-null   object \n",
            " 11  TransactionAmount_Binned    2108 non-null   int64  \n",
            " 12  CustomerAge_Binned          2108 non-null   int64  \n",
            " 13  TransactionDuration_Binned  2108 non-null   int64  \n",
            " 14  LoginAttempts_Binned        2108 non-null   int64  \n",
            " 15  AccountBalance_Binned       2108 non-null   int64  \n",
            " 16  Target                      2108 non-null   int64  \n",
            "dtypes: float64(5), int64(9), object(3)\n",
            "memory usage: 280.1+ KB\n"
          ]
        }
      ],
      "source": [
        "# Gunakan dataset hasil clustering yang memiliki fitur Target\n",
        "# Silakan gunakan dataset data_clustering jika tidak menerapkan Interpretasi Hasil Clustering [Advanced]\n",
        "# Silakan gunakan dataset data_clustering_inverse jika menerapkan Interpretasi Hasil Clustering [Advanced]\n",
        "df = pd.read_csv('data_clustering_inverse.csv')\n",
        "df.info()"
      ]
    },
    {
      "cell_type": "code",
      "execution_count": 152,
      "metadata": {
        "id": "bCsep0NZ0LUf"
      },
      "outputs": [
        {
          "data": {
            "application/vnd.microsoft.datawrangler.viewer.v0+json": {
              "columns": [
                {
                  "name": "index",
                  "rawType": "int64",
                  "type": "integer"
                },
                {
                  "name": "TransactionAmount",
                  "rawType": "float64",
                  "type": "float"
                },
                {
                  "name": "TransactionDate",
                  "rawType": "object",
                  "type": "string"
                },
                {
                  "name": "TransactionType",
                  "rawType": "int64",
                  "type": "integer"
                },
                {
                  "name": "Location",
                  "rawType": "object",
                  "type": "string"
                },
                {
                  "name": "Channel",
                  "rawType": "int64",
                  "type": "integer"
                },
                {
                  "name": "CustomerAge",
                  "rawType": "float64",
                  "type": "float"
                },
                {
                  "name": "CustomerOccupation",
                  "rawType": "int64",
                  "type": "integer"
                },
                {
                  "name": "TransactionDuration",
                  "rawType": "float64",
                  "type": "float"
                },
                {
                  "name": "LoginAttempts",
                  "rawType": "float64",
                  "type": "float"
                },
                {
                  "name": "AccountBalance",
                  "rawType": "float64",
                  "type": "float"
                },
                {
                  "name": "PreviousTransactionDate",
                  "rawType": "object",
                  "type": "string"
                },
                {
                  "name": "TransactionAmount_Binned",
                  "rawType": "int64",
                  "type": "integer"
                },
                {
                  "name": "CustomerAge_Binned",
                  "rawType": "int64",
                  "type": "integer"
                },
                {
                  "name": "TransactionDuration_Binned",
                  "rawType": "int64",
                  "type": "integer"
                },
                {
                  "name": "LoginAttempts_Binned",
                  "rawType": "int64",
                  "type": "integer"
                },
                {
                  "name": "AccountBalance_Binned",
                  "rawType": "int64",
                  "type": "integer"
                },
                {
                  "name": "Target",
                  "rawType": "int64",
                  "type": "integer"
                }
              ],
              "ref": "1e6e9161-f111-4bdb-ab73-69c3b2c0ab35",
              "rows": [
                [
                  "0",
                  "14.089999999999977",
                  "2023-04-11 16:29:14",
                  "1",
                  "San Diego",
                  "0",
                  "70.0",
                  "0",
                  "81.0",
                  "1.0",
                  "5112.21",
                  "2024-11-04 08:08:08",
                  "3",
                  "0",
                  "3",
                  "0",
                  "3",
                  "3"
                ],
                [
                  "1",
                  "376.24",
                  "2023-06-27 16:44:19",
                  "1",
                  "Houston",
                  "0",
                  "68.0",
                  "0",
                  "141.0",
                  "1.0",
                  "13758.91",
                  "2024-11-04 08:09:35",
                  "1",
                  "0",
                  "1",
                  "0",
                  "0",
                  "3"
                ],
                [
                  "2",
                  "126.29000000000002",
                  "2023-07-10 18:16:08",
                  "1",
                  "Mesa",
                  "2",
                  "19.0",
                  "3",
                  "56.0",
                  "1.0",
                  "1122.35",
                  "2024-11-04 08:07:04",
                  "3",
                  "3",
                  "3",
                  "0",
                  "3",
                  "1"
                ],
                [
                  "3",
                  "184.5",
                  "2023-05-05 16:32:11",
                  "1",
                  "Raleigh",
                  "2",
                  "26.0",
                  "3",
                  "25.0",
                  "1.0",
                  "8569.06",
                  "2024-11-04 08:09:06",
                  "3",
                  "3",
                  "3",
                  "0",
                  "2",
                  "1"
                ],
                [
                  "4",
                  "92.15",
                  "2023-04-03 17:15:01",
                  "1",
                  "Oklahoma City",
                  "0",
                  "18.0",
                  "3",
                  "172.0",
                  "1.0",
                  "781.6800000000003",
                  "2024-11-04 08:06:36",
                  "3",
                  "3",
                  "2",
                  "0",
                  "3",
                  "1"
                ]
              ],
              "shape": {
                "columns": 17,
                "rows": 5
              }
            },
            "text/html": [
              "<div>\n",
              "<style scoped>\n",
              "    .dataframe tbody tr th:only-of-type {\n",
              "        vertical-align: middle;\n",
              "    }\n",
              "\n",
              "    .dataframe tbody tr th {\n",
              "        vertical-align: top;\n",
              "    }\n",
              "\n",
              "    .dataframe thead th {\n",
              "        text-align: right;\n",
              "    }\n",
              "</style>\n",
              "<table border=\"1\" class=\"dataframe\">\n",
              "  <thead>\n",
              "    <tr style=\"text-align: right;\">\n",
              "      <th></th>\n",
              "      <th>TransactionAmount</th>\n",
              "      <th>TransactionDate</th>\n",
              "      <th>TransactionType</th>\n",
              "      <th>Location</th>\n",
              "      <th>Channel</th>\n",
              "      <th>CustomerAge</th>\n",
              "      <th>CustomerOccupation</th>\n",
              "      <th>TransactionDuration</th>\n",
              "      <th>LoginAttempts</th>\n",
              "      <th>AccountBalance</th>\n",
              "      <th>PreviousTransactionDate</th>\n",
              "      <th>TransactionAmount_Binned</th>\n",
              "      <th>CustomerAge_Binned</th>\n",
              "      <th>TransactionDuration_Binned</th>\n",
              "      <th>LoginAttempts_Binned</th>\n",
              "      <th>AccountBalance_Binned</th>\n",
              "      <th>Target</th>\n",
              "    </tr>\n",
              "  </thead>\n",
              "  <tbody>\n",
              "    <tr>\n",
              "      <th>0</th>\n",
              "      <td>14.09</td>\n",
              "      <td>2023-04-11 16:29:14</td>\n",
              "      <td>1</td>\n",
              "      <td>San Diego</td>\n",
              "      <td>0</td>\n",
              "      <td>70.0</td>\n",
              "      <td>0</td>\n",
              "      <td>81.0</td>\n",
              "      <td>1.0</td>\n",
              "      <td>5112.21</td>\n",
              "      <td>2024-11-04 08:08:08</td>\n",
              "      <td>3</td>\n",
              "      <td>0</td>\n",
              "      <td>3</td>\n",
              "      <td>0</td>\n",
              "      <td>3</td>\n",
              "      <td>3</td>\n",
              "    </tr>\n",
              "    <tr>\n",
              "      <th>1</th>\n",
              "      <td>376.24</td>\n",
              "      <td>2023-06-27 16:44:19</td>\n",
              "      <td>1</td>\n",
              "      <td>Houston</td>\n",
              "      <td>0</td>\n",
              "      <td>68.0</td>\n",
              "      <td>0</td>\n",
              "      <td>141.0</td>\n",
              "      <td>1.0</td>\n",
              "      <td>13758.91</td>\n",
              "      <td>2024-11-04 08:09:35</td>\n",
              "      <td>1</td>\n",
              "      <td>0</td>\n",
              "      <td>1</td>\n",
              "      <td>0</td>\n",
              "      <td>0</td>\n",
              "      <td>3</td>\n",
              "    </tr>\n",
              "    <tr>\n",
              "      <th>2</th>\n",
              "      <td>126.29</td>\n",
              "      <td>2023-07-10 18:16:08</td>\n",
              "      <td>1</td>\n",
              "      <td>Mesa</td>\n",
              "      <td>2</td>\n",
              "      <td>19.0</td>\n",
              "      <td>3</td>\n",
              "      <td>56.0</td>\n",
              "      <td>1.0</td>\n",
              "      <td>1122.35</td>\n",
              "      <td>2024-11-04 08:07:04</td>\n",
              "      <td>3</td>\n",
              "      <td>3</td>\n",
              "      <td>3</td>\n",
              "      <td>0</td>\n",
              "      <td>3</td>\n",
              "      <td>1</td>\n",
              "    </tr>\n",
              "    <tr>\n",
              "      <th>3</th>\n",
              "      <td>184.50</td>\n",
              "      <td>2023-05-05 16:32:11</td>\n",
              "      <td>1</td>\n",
              "      <td>Raleigh</td>\n",
              "      <td>2</td>\n",
              "      <td>26.0</td>\n",
              "      <td>3</td>\n",
              "      <td>25.0</td>\n",
              "      <td>1.0</td>\n",
              "      <td>8569.06</td>\n",
              "      <td>2024-11-04 08:09:06</td>\n",
              "      <td>3</td>\n",
              "      <td>3</td>\n",
              "      <td>3</td>\n",
              "      <td>0</td>\n",
              "      <td>2</td>\n",
              "      <td>1</td>\n",
              "    </tr>\n",
              "    <tr>\n",
              "      <th>4</th>\n",
              "      <td>92.15</td>\n",
              "      <td>2023-04-03 17:15:01</td>\n",
              "      <td>1</td>\n",
              "      <td>Oklahoma City</td>\n",
              "      <td>0</td>\n",
              "      <td>18.0</td>\n",
              "      <td>3</td>\n",
              "      <td>172.0</td>\n",
              "      <td>1.0</td>\n",
              "      <td>781.68</td>\n",
              "      <td>2024-11-04 08:06:36</td>\n",
              "      <td>3</td>\n",
              "      <td>3</td>\n",
              "      <td>2</td>\n",
              "      <td>0</td>\n",
              "      <td>3</td>\n",
              "      <td>1</td>\n",
              "    </tr>\n",
              "  </tbody>\n",
              "</table>\n",
              "</div>"
            ],
            "text/plain": [
              "   TransactionAmount      TransactionDate  TransactionType       Location  \\\n",
              "0              14.09  2023-04-11 16:29:14                1      San Diego   \n",
              "1             376.24  2023-06-27 16:44:19                1        Houston   \n",
              "2             126.29  2023-07-10 18:16:08                1           Mesa   \n",
              "3             184.50  2023-05-05 16:32:11                1        Raleigh   \n",
              "4              92.15  2023-04-03 17:15:01                1  Oklahoma City   \n",
              "\n",
              "   Channel  CustomerAge  CustomerOccupation  TransactionDuration  \\\n",
              "0        0         70.0                   0                 81.0   \n",
              "1        0         68.0                   0                141.0   \n",
              "2        2         19.0                   3                 56.0   \n",
              "3        2         26.0                   3                 25.0   \n",
              "4        0         18.0                   3                172.0   \n",
              "\n",
              "   LoginAttempts  AccountBalance PreviousTransactionDate  \\\n",
              "0            1.0         5112.21     2024-11-04 08:08:08   \n",
              "1            1.0        13758.91     2024-11-04 08:09:35   \n",
              "2            1.0         1122.35     2024-11-04 08:07:04   \n",
              "3            1.0         8569.06     2024-11-04 08:09:06   \n",
              "4            1.0          781.68     2024-11-04 08:06:36   \n",
              "\n",
              "   TransactionAmount_Binned  CustomerAge_Binned  TransactionDuration_Binned  \\\n",
              "0                         3                   0                           3   \n",
              "1                         1                   0                           1   \n",
              "2                         3                   3                           3   \n",
              "3                         3                   3                           3   \n",
              "4                         3                   3                           2   \n",
              "\n",
              "   LoginAttempts_Binned  AccountBalance_Binned  Target  \n",
              "0                     0                      3       3  \n",
              "1                     0                      0       3  \n",
              "2                     0                      3       1  \n",
              "3                     0                      2       1  \n",
              "4                     0                      3       1  "
            ]
          },
          "execution_count": 152,
          "metadata": {},
          "output_type": "execute_result"
        }
      ],
      "source": [
        "# Tampilkan 5 baris pertama dengan function head.\n",
        "df.head()"
      ]
    },
    {
      "cell_type": "markdown",
      "metadata": {
        "id": "KkPem5eWL2UP"
      },
      "source": [
        "# **3. Data Splitting**\n",
        "Tahap Data Splitting bertujuan untuk memisahkan dataset menjadi dua bagian: data latih (training set) dan data uji (test set)."
      ]
    },
    {
      "cell_type": "code",
      "execution_count": 153,
      "metadata": {
        "id": "OubAW-7ONKVj"
      },
      "outputs": [],
      "source": [
        "# Menggunakan train_test_split() untuk melakukan pembagian dataset.\n",
        "# Membagi data menjadi fitur (X) dan target (y)\n",
        "df = df.select_dtypes(include=['float64', 'int64'])  # Memilih hanya kolom numerik\n",
        "X = df.drop('Target', axis=1)\n",
        "y = df['Target']\n",
        "# Membagi data menjadi data latih dan data uji\n",
        "X_train, X_test, y_train, y_test = train_test_split(X, y, test_size=0.2, random_state=42)"
      ]
    },
    {
      "cell_type": "markdown",
      "metadata": {
        "id": "IVPbB03CMhTT"
      },
      "source": [
        "# **4. Membangun Model Klasifikasi**\n",
        "Setelah memilih algoritma klasifikasi yang sesuai, langkah selanjutnya adalah melatih model menggunakan data latih.\n",
        "\n",
        "Berikut adalah rekomendasi tahapannya.\n",
        "1. Menggunakan algoritma klasifikasi yaitu Decision Tree.\n",
        "2. Latih model menggunakan data yang sudah dipisah."
      ]
    },
    {
      "cell_type": "code",
      "execution_count": 154,
      "metadata": {
        "id": "4JYxBe87NLDk"
      },
      "outputs": [],
      "source": [
        "# Buatlah model klasifikasi menggunakan Decision Tree\n",
        "\n",
        "model = DecisionTreeClassifier(random_state=42)\n",
        "model.fit(X_train, y_train)\n",
        "\n",
        "y_pred = model.predict(X_test)"
      ]
    },
    {
      "cell_type": "code",
      "execution_count": 155,
      "metadata": {
        "id": "P_AakAxghYv-"
      },
      "outputs": [
        {
          "data": {
            "text/plain": [
              "['decision_tree_model.h5']"
            ]
          },
          "execution_count": 155,
          "metadata": {},
          "output_type": "execute_result"
        }
      ],
      "source": [
        "# Menyimpan Model\n",
        "import joblib\n",
        "joblib.dump(model, 'decision_tree_model.h5')"
      ]
    },
    {
      "cell_type": "markdown",
      "metadata": {
        "id": "epO4HhrzBXMg"
      },
      "source": [
        "# **5. Memenuhi Kriteria Skilled dan Advanced dalam Membangun Model Klasifikasi**\n",
        "\n"
      ]
    },
    {
      "cell_type": "markdown",
      "metadata": {
        "id": "DNOEZk24uiXu"
      },
      "source": [
        "**Biarkan kosong jika tidak menerapkan kriteria skilled atau advanced**"
      ]
    },
    {
      "cell_type": "code",
      "execution_count": 156,
      "metadata": {
        "id": "kB_8LIWMATl6"
      },
      "outputs": [
        {
          "name": "stdout",
          "output_type": "stream",
          "text": [
            "Model training selesai.\n"
          ]
        }
      ],
      "source": [
        "# Melatih model menggunakan algoritma klasifikasi selain Decision Tree.\n",
        "\n",
        "knn = KNeighborsClassifier().fit(X_train, y_train)\n",
        "dt = DecisionTreeClassifier().fit(X_train, y_train)\n",
        "rf = RandomForestClassifier().fit(X_train, y_train)\n",
        "svm = SVC().fit(X_train, y_train)\n",
        "nb = GaussianNB().fit(X_train, y_train)\n",
        "\n",
        "print(\"Model training selesai.\")"
      ]
    },
    {
      "cell_type": "code",
      "execution_count": 157,
      "metadata": {},
      "outputs": [
        {
          "name": "stdout",
          "output_type": "stream",
          "text": [
            "                          Model  Accuracy  Precision    Recall  F1-Score\n",
            "0     K-Nearest Neighbors (KNN)  0.599526   0.614966  0.619088  0.610826\n",
            "1            Decision Tree (DT)  0.971564   0.970286  0.971524  0.970876\n",
            "2            Random Forest (RF)  0.981043   0.982363  0.980286  0.981273\n",
            "3  Support Vector Machine (SVM)  0.599526   0.598585  0.628679  0.598832\n",
            "4              Naive Bayes (NB)  0.964455   0.966508  0.961570  0.963728\n"
          ]
        }
      ],
      "source": [
        "# Menampilkan hasil evaluasi akurasi, presisi, recall, dan F1-Score pada seluruh algoritma yang sudah dibuat.\n",
        "# Fungsi untuk mengevaluasi dan mengembalikan hasil sebagai kamus\n",
        "def evaluate_model(model, X_test, y_test):\n",
        "    y_pred = model.predict(X_test)\n",
        "    cm = confusion_matrix(y_test, y_pred)\n",
        "    results = {\n",
        "        'Confusion Matrix': cm,\n",
        "        'Accuracy': accuracy_score(y_test, y_pred),\n",
        "        'Precision': precision_score(y_test, y_pred, average='macro'),\n",
        "        'Recall': recall_score(y_test, y_pred, average='macro'),\n",
        "        'F1-Score': f1_score(y_test, y_pred, average='macro')\n",
        "    }\n",
        "    return results\n",
        "\n",
        "# Mengevaluasi setiap model dan mengumpulkan hasilnya\n",
        "results = {\n",
        "    'K-Nearest Neighbors (KNN)': evaluate_model(knn, X_test, y_test),\n",
        "    'Decision Tree (DT)': evaluate_model(dt, X_test, y_test),\n",
        "    'Random Forest (RF)': evaluate_model(rf, X_test, y_test),\n",
        "    'Support Vector Machine (SVM)': evaluate_model(svm, X_test, y_test),\n",
        "    'Naive Bayes (NB)': evaluate_model(nb, X_test, y_test)\n",
        "}\n",
        "\n",
        "# Buat DataFrame untuk meringkas hasil\n",
        "summary_df = pd.DataFrame(columns=['Model', 'Accuracy', 'Precision', 'Recall', 'F1-Score'])\n",
        "\n",
        "# Isi DataFrame dengan hasil\n",
        "rows = []\n",
        "for model_name, metrics in results.items():\n",
        "    rows.append({\n",
        "        'Model': model_name,\n",
        "        'Accuracy': metrics['Accuracy'],\n",
        "        'Precision': metrics['Precision'],\n",
        "        'Recall': metrics['Recall'],\n",
        "        'F1-Score': metrics['F1-Score']\n",
        "    })\n",
        "\n",
        "# Konversi daftar kamus ke DataFrame\n",
        "summary_df = pd.DataFrame(rows)\n",
        "\n",
        "# Tampilkan DataFrame\n",
        "print(summary_df)"
      ]
    },
    {
      "cell_type": "code",
      "execution_count": 158,
      "metadata": {},
      "outputs": [
        {
          "data": {
            "image/png": "[encoded data removed]",
            "text/plain": [
              "<Figure size 1500x1000 with 10 Axes>"
            ]
          },
          "metadata": {},
          "output_type": "display_data"
        }
      ],
      "source": [
        "# menampilkan confusion matrix untuk berbagai model dalam satu plot\n",
        "plt.figure(figsize=(15, 10))\n",
        "\n",
        "# confusion matrix untuk KNN\n",
        "plt.subplot(2, 3, 1)\n",
        "sns.heatmap(results['K-Nearest Neighbors (KNN)']['Confusion Matrix'], annot=True, fmt='d', cmap='Blues')\n",
        "plt.title('Confusion Matrix for K-Nearest Neighbors (KNN)')\n",
        "plt.xlabel('Predicted')\n",
        "plt.ylabel('Actual')\n",
        "\n",
        "# confusion matrix untuk Decision Tree\n",
        "plt.subplot(2, 3, 2)\n",
        "sns.heatmap(results['Decision Tree (DT)']['Confusion Matrix'], annot=True, fmt='d', cmap='Blues')\n",
        "plt.title('Confusion Matrix for Decision Tree (DT)')\n",
        "plt.xlabel('Predicted')\n",
        "plt.ylabel('Actual')\n",
        "\n",
        "# confusion matrix untuk Random Forest\n",
        "plt.subplot(2, 3, 3)\n",
        "sns.heatmap(results['Random Forest (RF)']['Confusion Matrix'], annot=True, fmt='d', cmap='Blues')\n",
        "plt.title('Confusion Matrix for Random Forest (RF)')\n",
        "plt.xlabel('Predicted')\n",
        "plt.ylabel('Actual')\n",
        "\n",
        "# confusion matrix untuk SVM\n",
        "plt.subplot(2, 3, 4)\n",
        "sns.heatmap(results['Support Vector Machine (SVM)']['Confusion Matrix'], annot=True, fmt='d', cmap='Blues')\n",
        "plt.title('Confusion Matrix for Support Vector Machine (SVM)')\n",
        "plt.xlabel('Predicted')\n",
        "plt.ylabel('Actual')\n",
        "\n",
        "# confusion matrix untuk Naive Bayes\n",
        "plt.subplot(2, 3, 5)\n",
        "sns.heatmap(results['Naive Bayes (NB)']['Confusion Matrix'], annot=True, fmt='d', cmap='Blues')\n",
        "plt.title('Confusion Matrix for Naive Bayes (NB)')\n",
        "plt.xlabel('Predicted')\n",
        "plt.ylabel('Actual')\n",
        "\n",
        "# menampilkan seluruh plot sekaligus\n",
        "plt.tight_layout()  # untuk memastikan tidak ada label yang terpotong\n",
        "plt.show()"
      ]
    },
    {
      "cell_type": "code",
      "execution_count": 159,
      "metadata": {
        "id": "dUPItkbXBNkO"
      },
      "outputs": [
        {
          "data": {
            "text/plain": [
              "['explore_naive_bayes_classification.h5']"
            ]
          },
          "execution_count": 159,
          "metadata": {},
          "output_type": "execute_result"
        }
      ],
      "source": [
        "# Menyimpan Model Selain Decision Tree\n",
        "# Model ini bisa lebih dari satu\n",
        "import joblib\n",
        "joblib.dump(knn, 'explore_knn_classification.h5')\n",
        "joblib.dump(rf, 'explore_random_forest_classification.h5')\n",
        "joblib.dump(svm, 'explore_svm_classification.h5')\n",
        "joblib.dump(nb, 'explore_naive_bayes_classification.h5')"
      ]
    },
    {
      "cell_type": "markdown",
      "metadata": {
        "id": "u23H2guj-h9h"
      },
      "source": [
        "Hyperparameter Tuning Model\n",
        "\n",
        "Pilih salah satu algoritma yang ingin Anda tuning"
      ]
    },
    {
      "cell_type": "code",
      "execution_count": 160,
      "metadata": {
        "id": "dFCTxJJq-m-l"
      },
      "outputs": [
        {
          "name": "stdout",
          "output_type": "stream",
          "text": [
            "Fitting 5 folds for each of 108 candidates, totalling 540 fits\n",
            "Best parameters found:  {'max_depth': None, 'min_samples_leaf': 2, 'min_samples_split': 2, 'n_estimators': 50}\n"
          ]
        }
      ],
      "source": [
        "# Lakukan Hyperparameter Tuning dan Latih ulang. (random forest)\n",
        "from sklearn.model_selection import GridSearchCV\n",
        "# Tentukan parameter yang akan di-tuning\n",
        "param_grid = {\n",
        "    'n_estimators': [50, 100, 200],\n",
        "    'max_depth': [None, 10, 20, 30],\n",
        "    'min_samples_split': [2, 5, 10],\n",
        "    'min_samples_leaf': [1, 2, 4]\n",
        "}\n",
        "# Inisialisasi Random Forest Classifier\n",
        "rf_tuned = RandomForestClassifier(random_state=42)\n",
        "# Inisialisasi GridSearchCV\n",
        "grid_search = GridSearchCV(estimator=rf_tuned, param_grid=param_grid, \n",
        "                            scoring='accuracy', cv=5, verbose=2, n_jobs=-1)\n",
        "# Melakukan hyperparameter tuning\n",
        "grid_search.fit(X_train, y_train)\n",
        "# Menampilkan hasil terbaik dari GridSearchCV\n",
        "print(\"Best parameters found: \", grid_search.best_params_)\n",
        "# Melatih ulang model dengan parameter terbaik\n",
        "best_rf_model = grid_search.best_estimator_\n",
        "\n",
        "# Evaluasi model terbaik\n",
        "best_rf_results = evaluate_model(best_rf_model, X_test, y_test)"
      ]
    },
    {
      "cell_type": "code",
      "execution_count": 161,
      "metadata": {
        "id": "1g6EPSSWxjcQ"
      },
      "outputs": [
        {
          "name": "stdout",
          "output_type": "stream",
          "text": [
            "Best Random Forest Model Evaluation:\n",
            "Accuracy: 0.9858\n",
            "Precision: 0.9871\n",
            "Recall: 0.9843\n",
            "F1-Score: 0.9856\n"
          ]
        },
        {
          "data": {
            "image/png": "[encoded data removed]",
            "text/plain": [
              "<Figure size 800x600 with 2 Axes>"
            ]
          },
          "metadata": {},
          "output_type": "display_data"
        }
      ],
      "source": [
        "# Menampilkan hasil evaluasi akurasi, presisi, recall, dan F1-Score pada algoritma yang sudah dituning.\n",
        "print(\"Best Random Forest Model Evaluation:\")\n",
        "print(f\"Accuracy: {best_rf_results['Accuracy']:.4f}\")\n",
        "print(f\"Precision: {best_rf_results['Precision']:.4f}\")\n",
        "print(f\"Recall: {best_rf_results['Recall']:.4f}\")\n",
        "print(f\"F1-Score: {best_rf_results['F1-Score']:.4f}\")\n",
        "\n",
        "# menampilkan confusion matrix untuk model Random Forest yang sudah dituning\n",
        "plt.figure(figsize=(8, 6))\n",
        "sns.heatmap(best_rf_results['Confusion Matrix'], annot=True, fmt='d', cmap='Blues')\n",
        "plt.title('Confusion Matrix for Tuned Random Forest')\n",
        "plt.xlabel('Predicted')\n",
        "plt.ylabel('Actual')\n",
        "plt.show()"
      ]
    },
    {
      "cell_type": "code",
      "execution_count": 162,
      "metadata": {
        "id": "7UJNcVP--n7S"
      },
      "outputs": [
        {
          "data": {
            "text/plain": [
              "['tuning_classification.h5']"
            ]
          },
          "execution_count": 162,
          "metadata": {},
          "output_type": "execute_result"
        }
      ],
      "source": [
        "# Menyimpan Model hasil tuning\n",
        "import joblib\n",
        "joblib.dump(best_rf_model, 'tuning_classification.h5')"
      ]
    }
  ],
  "metadata": {
    "colab": {
      "provenance": []
    },
    "kernelspec": {
      "display_name": "Python 3",
      "name": "python3"
    },
    "language_info": {
      "codemirror_mode": {
        "name": "ipython",
        "version": 3
      },
      "file_extension": ".py",
      "mimetype": "text/x-python",
      "name": "python",
      "nbconvert_exporter": "python",
      "pygments_lexer": "ipython3",
      "version": "3.12.10"
    }
  },
  "nbformat": 4,
  "nbformat_minor": 0
}
